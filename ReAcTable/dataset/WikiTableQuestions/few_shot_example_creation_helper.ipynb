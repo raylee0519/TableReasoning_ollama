{
 "cells": [
  {
   "cell_type": "code",
   "execution_count": 1,
   "id": "c6d5a916-ef77-4078-a13b-e0560f2511ed",
   "metadata": {},
   "outputs": [],
   "source": [
    "import pandas as pd\n",
    "import sys\n",
    "sys.path.insert(0, '/mnt/text2sql/')\n",
    "from GptPrompter import *\n",
    "dataset = pd.read_csv('./data/pristine-unseen-tables-sample400.tsv', sep='\\t')\n",
    "# dataset = pd.read_csv('./data/training.tsv', sep='\\t')"
   ]
  },
  {
   "cell_type": "code",
   "execution_count": null,
   "id": "9d4ee3e5-6b10-4632-addd-a5f4776bb029",
   "metadata": {},
   "outputs": [],
   "source": []
  },
  {
   "cell_type": "code",
   "execution_count": 2,
   "id": "3e4428ab-01ec-40e9-b67a-b32d2a244ed3",
   "metadata": {},
   "outputs": [
    {
     "data": {
      "text/plain": [
       "id                                                       nu-1286\n",
       "utterance      of all the games won, which game had a score g...\n",
       "context                                       csv/204-csv/97.csv\n",
       "targetValue                                          February 16\n",
       "Name: 52, dtype: object"
      ]
     },
     "execution_count": 2,
     "metadata": {},
     "output_type": "execute_result"
    }
   ],
   "source": [
    "# i = random.randint(0, dataset.shape[0])\n",
    "i = 52\n",
    "# utterance = '4 of the cultural interest fraternity and sorority be fraternity while 3 be a sorority'\n",
    "# i = dataset.loc[dataset['utterance'] == f'{utterance}. yes or no?'].index[0]\n",
    "df = dataset.iloc[i]\n",
    "df"
   ]
  },
  {
   "cell_type": "code",
   "execution_count": 11,
   "id": "713f7ed6-7cc0-49a7-85dc-c8b2daa8b9e3",
   "metadata": {},
   "outputs": [
    {
     "name": "stdout",
     "output_type": "stream",
     "text": [
      "Question: \"of all the games won, which game had a score gap less than the february 28th game?\"\n",
      "[HEAD]: date|opponent|score|top_scorer_total_points|venue\n",
      "---\n",
      "[ROW] 1: February 7 All-Filipino Cup|SHELL|76-60|nan|PHILSPORTS ARENA\n",
      "[ROW] 2: February 11|MOBILINE|80-68|nan|ARANETA COLISEUM\n",
      "[ROW] 3: February 16|ALASKA|73-72|Davonn Harp (20)|PHILSPORTS ARENA\n",
      "...\n",
      "[ROW] 18: October 24|BRGY.GINEBRA|93-72|nan|PHILSPORTS ARENA\n",
      "[ROW] 19: November 7|SAN MIGUEL|86-81|nan|ARANETA COLISEUM\n"
     ]
    },
    {
     "data": {
      "text/plain": [
       "'[HEAD]: date|opponent|score|top_scorer_total_points|venue\\n---\\n[ROW] 1: February 7 All-Filipino Cup|SHELL|76-60|nan|PHILSPORTS ARENA\\n[ROW] 2: February 11|MOBILINE|80-68|nan|ARANETA COLISEUM\\n[ROW] 3: February 16|ALASKA|73-72|Davonn Harp (20)|PHILSPORTS ARENA\\n...\\n[ROW] 18: October 24|BRGY.GINEBRA|93-72|nan|PHILSPORTS ARENA\\n[ROW] 19: November 7|SAN MIGUEL|86-81|nan|ARANETA COLISEUM'"
      ]
     },
     "execution_count": 11,
     "metadata": {},
     "output_type": "execute_result"
    }
   ],
   "source": [
    "\n",
    "DF = pd.read_csv(f'{df[\"context\"]}', sep=',')\n",
    "DF.columns = [normalize_col_name(c).lower() for c in DF.columns.tolist()]\n",
    "\n",
    "table = table_formater(DF, line_limit=5)\n",
    "\n",
    "# print(\"Given the following database table DF, answer a question by executing SQL queries. For each question, generate a series of SQL quereis to answer the question step-by-step. At each step, choose to generate SQL query (SQL), or directly answer the question (Answer).\")\n",
    "# print()\n",
    "# print('The database table DF is shown as follows:')\n",
    "# print(table_formater(DF, line_limit=10))\n",
    "# print()\n",
    "# print(f'Answer the following question based on the data above: \"{df[\"utterance\"]}\". Execute SQL or Python code step-by-step and finally answer the question. Choose from generating a SQL, Python code, or directly answering the question.')\n",
    "# print(f'Answer the following question based on the data above: \"{df[\"utterance\"]}\". Execute SQL step-by-step and finally answer the question. Choose from generating a SQL or directly answering the question.')\n",
    "print(f'Question: \"{df[\"utterance\"]}\"')\n",
    "print(table)\n",
    "table\n",
    "\n",
    "\n",
    "# utterance = 'of the members of the third incarnation of the lachlan, who served the longest?'\n",
    "# df = dataset.loc[dataset['utterance'] == utterance]\n",
    "\n",
    "# DF = pd.read_csv(f'{df[\"context\"].iloc[0]}', sep=',')\n",
    "# DF.columns = [normalize_col_name(c).lower() for c in DF.columns.tolist()]\n",
    "# print('The database table DF is shown as follows:')\n",
    "# print(table_formater(DF, line_limit=5))\n",
    "# print()\n",
    "# print(f'Answer the following question based on the data above: \"{df[\"utterance\"].iloc[0]}\". Execute SQL or Python code step-by-step and finally answer the question. Choose from generating a SQL, Python code, or directly answering the question.')\n",
    "# # print(f'Answer the following question based on the data above: \"{df[\"utterance\"].iloc[0]}\". Execute SQL step-by-step and finally answer the question. Choose from generating a SQL or directly answering the question.')"
   ]
  },
  {
   "cell_type": "code",
   "execution_count": 12,
   "id": "2658c752-ea3c-4f3a-9496-4af9385d3a80",
   "metadata": {},
   "outputs": [
    {
     "name": "stdout",
     "output_type": "stream",
     "text": [
      "SQL: ```SELECT date, score FROM DF WHERE score LIKE \"%-%\";```.\n",
      "Question: \"of all the games won, which game had a score gap less than the february 28th game?\"\n",
      "[HEAD]: date|score\n",
      "---\n",
      "[ROW] 1: February 7 All-Filipino Cup|76-60\n",
      "[ROW] 2: February 11|80-68\n",
      "[ROW] 3: February 16|73-72\n",
      "[ROW] 4: February 28|78-76\n",
      "[ROW] 5: March 3|79-72\n",
      "[ROW] 6: March 9|65-58\n",
      "[ROW] 7: April 4|87-84\n",
      "[ROW] 8: June 10 Commissioner's Cup|97-92\n",
      "...\n",
      "[ROW] 18: October 24|93-72\n",
      "[ROW] 19: November 7|86-81\n"
     ]
    },
    {
     "data": {
      "text/plain": [
       "\"[HEAD]: date|score\\n---\\n[ROW] 1: February 7 All-Filipino Cup|76-60\\n[ROW] 2: February 11|80-68\\n[ROW] 3: February 16|73-72\\n[ROW] 4: February 28|78-76\\n[ROW] 5: March 3|79-72\\n[ROW] 6: March 9|65-58\\n[ROW] 7: April 4|87-84\\n[ROW] 8: June 10 Commissioner's Cup|97-92\\n...\\n[ROW] 18: October 24|93-72\\n[ROW] 19: November 7|86-81\""
      ]
     },
     "execution_count": 12,
     "metadata": {},
     "output_type": "execute_result"
    }
   ],
   "source": [
    "# # DF = new_df\n",
    "\n",
    "\n",
    "# code = \\\n",
    "# \"\"\"\n",
    "# DF['time_order'] = DF.index\n",
    "# \"\"\"\n",
    "# exec(code)\n",
    "\n",
    "# print(f\"Python: ```\\n{code}```.\")\n",
    "\n",
    "\n",
    "# SQL = 'SELECT date, score FROM DF WHERE score LIKE \"%–%\";'\n",
    "SQL = 'SELECT date, score FROM DF WHERE score LIKE \"%-%\";'\n",
    "\n",
    "import pandasql as ps\n",
    "DF = ps.sqldf(SQL)\n",
    "# print(table_formater(new_df, line_limit=5))\n",
    "\n",
    "print(f\"SQL: ```{SQL}```.\")\n",
    "\n",
    "\n",
    "\n",
    "\n",
    "\n",
    "table = table_formater(DF, line_limit=10)\n",
    "print(f'Question: \"{df[\"utterance\"]}\"')\n",
    "print(table)\n",
    "table\n",
    "# print(f'Answer the following question based on the data above: \"{df[\"utterance\"]}\". Execute SQL or Python code step-by-step and finally answer the question. Choose from generating a SQL, Python code, or directly answering the question.')\n",
    "# print(f'Answer the following question based on the data above: \"{df[\"utterance\"]}\". Execute SQL step-by-step and finally answer the question. Choose from generating a SQL or directly answering the question.')"
   ]
  },
  {
   "cell_type": "code",
   "execution_count": 10,
   "id": "4f2baae1-de61-4369-9759-f9d236dbd71f",
   "metadata": {},
   "outputs": [
    {
     "data": {
      "text/plain": [
       "False"
      ]
     },
     "execution_count": 10,
     "metadata": {},
     "output_type": "execute_result"
    }
   ],
   "source": [
    "SQL == SQL1"
   ]
  },
  {
   "cell_type": "code",
   "execution_count": null,
   "id": "975f5889-57df-478f-bcc4-8d9f39e3f0d6",
   "metadata": {},
   "outputs": [],
   "source": []
  },
  {
   "cell_type": "code",
   "execution_count": 120,
   "id": "6b7fac2d-90ea-4a63-b86d-af16918c01a6",
   "metadata": {},
   "outputs": [
    {
     "name": "stdout",
     "output_type": "stream",
     "text": [
      "Python: ```\n",
      "def get_country(s):\n",
      "    try:\n",
      "        return re.search(\"\\((.*?)\\)\", s).group(1)\n",
      "    except:\n",
      "        return s\n",
      "DF['country'] = DF.apply(lambda x: get_country(x['cyclist']), axis=1)\n",
      "```.\n",
      "Question: \"which country had the most cyclists finish within the top 10?\"\n",
      "[HEAD]: cyclist|country\n",
      "---\n",
      "[ROW] 1: Alejandro Valverde (ESP)|ESP\n",
      "[ROW] 2: Alexandr Kolobnev (RUS)|RUS\n",
      "[ROW] 3: Davide Rebellin (ITA)|ITA\n",
      "[ROW] 4: Paolo Bettini (ITA)|ITA\n",
      "[ROW] 5: Franco Pellizotti (ITA)|ITA\n",
      "[ROW] 6: Denis Menchov (RUS)|RUS\n",
      "[ROW] 7: Samuel Sánchez (ESP)|ESP\n",
      "[ROW] 8: Stéphane Goubert (FRA)|FRA\n",
      "[ROW] 9: Haimar Zubeldia (ESP)|ESP\n",
      "[ROW] 10: David Moncoutié (FRA)|FRA\n"
     ]
    },
    {
     "data": {
      "text/plain": [
       "'[HEAD]: cyclist|country\\n---\\n[ROW] 1: Alejandro Valverde (ESP)|ESP\\n[ROW] 2: Alexandr Kolobnev (RUS)|RUS\\n[ROW] 3: Davide Rebellin (ITA)|ITA\\n[ROW] 4: Paolo Bettini (ITA)|ITA\\n[ROW] 5: Franco Pellizotti (ITA)|ITA\\n[ROW] 6: Denis Menchov (RUS)|RUS\\n[ROW] 7: Samuel Sánchez (ESP)|ESP\\n[ROW] 8: Stéphane Goubert (FRA)|FRA\\n[ROW] 9: Haimar Zubeldia (ESP)|ESP\\n[ROW] 10: David Moncoutié (FRA)|FRA'"
      ]
     },
     "execution_count": 120,
     "metadata": {},
     "output_type": "execute_result"
    }
   ],
   "source": [
    "# code = \\\n",
    "# \"\"\"\n",
    "# def get_value(x):\n",
    "#     return int(x.replace(',', ''))\n",
    "# DF['passengers_num'] = DF.apply(lambda x: get_value(x['passengers']), axis=1)\n",
    "# \"\"\"\n",
    "code = \\\n",
    "\"\"\"\n",
    "def get_country(s):\n",
    "    try:\n",
    "        return re.search(\"\\((.*?)\\)\", s).group(1)\n",
    "    except:\n",
    "        return s\n",
    "DF['country'] = DF.apply(lambda x: get_country(x['cyclist']), axis=1)\n",
    "\"\"\"\n",
    "exec(code)\n",
    "\n",
    "print(f\"Python: ```{code}```.\")\n",
    "\n",
    "table = table_formater(DF, line_limit=10)\n",
    "print(f'Question: \"{df[\"utterance\"]}\"')\n",
    "print(table)\n",
    "table"
   ]
  },
  {
   "cell_type": "code",
   "execution_count": 113,
   "id": "992f4f7c-8cd2-4ea5-8215-2ea7e1457a9c",
   "metadata": {},
   "outputs": [
    {
     "data": {
      "text/plain": [
       "'6'"
      ]
     },
     "execution_count": 113,
     "metadata": {},
     "output_type": "execute_result"
    }
   ],
   "source": [
    "# df[\"targetValue\"].iloc[0]\n",
    "df[\"targetValue\"]"
   ]
  },
  {
   "cell_type": "code",
   "execution_count": 40,
   "id": "502891d2-47aa-43b8-92e2-fe231f87a8cf",
   "metadata": {},
   "outputs": [
    {
     "ename": "IndexError",
     "evalue": "single positional indexer is out-of-bounds",
     "output_type": "error",
     "traceback": [
      "\u001b[0;31m---------------------------------------------------------------------------\u001b[0m",
      "\u001b[0;31mIndexError\u001b[0m                                Traceback (most recent call last)",
      "Input \u001b[0;32mIn [40]\u001b[0m, in \u001b[0;36m<cell line: 1>\u001b[0;34m()\u001b[0m\n\u001b[0;32m----> 1\u001b[0m DF \u001b[38;5;241m=\u001b[39m pd\u001b[38;5;241m.\u001b[39mread_csv(\u001b[38;5;124mf\u001b[39m\u001b[38;5;124m'\u001b[39m\u001b[38;5;132;01m{\u001b[39;00mdf[\u001b[38;5;124m\"\u001b[39m\u001b[38;5;124mcontext\u001b[39m\u001b[38;5;124m\"\u001b[39m]\u001b[38;5;241m.\u001b[39miloc[\u001b[38;5;241m1\u001b[39m]\u001b[38;5;132;01m}\u001b[39;00m\u001b[38;5;124m'\u001b[39m, sep\u001b[38;5;241m=\u001b[39m\u001b[38;5;124m'\u001b[39m\u001b[38;5;124m,\u001b[39m\u001b[38;5;124m'\u001b[39m)\n",
      "File \u001b[0;32m/usr/local/lib/python3.8/dist-packages/pandas/core/indexing.py:967\u001b[0m, in \u001b[0;36m_LocationIndexer.__getitem__\u001b[0;34m(self, key)\u001b[0m\n\u001b[1;32m    964\u001b[0m axis \u001b[38;5;241m=\u001b[39m \u001b[38;5;28mself\u001b[39m\u001b[38;5;241m.\u001b[39maxis \u001b[38;5;129;01mor\u001b[39;00m \u001b[38;5;241m0\u001b[39m\n\u001b[1;32m    966\u001b[0m maybe_callable \u001b[38;5;241m=\u001b[39m com\u001b[38;5;241m.\u001b[39mapply_if_callable(key, \u001b[38;5;28mself\u001b[39m\u001b[38;5;241m.\u001b[39mobj)\n\u001b[0;32m--> 967\u001b[0m \u001b[38;5;28;01mreturn\u001b[39;00m \u001b[38;5;28;43mself\u001b[39;49m\u001b[38;5;241;43m.\u001b[39;49m\u001b[43m_getitem_axis\u001b[49m\u001b[43m(\u001b[49m\u001b[43mmaybe_callable\u001b[49m\u001b[43m,\u001b[49m\u001b[43m \u001b[49m\u001b[43maxis\u001b[49m\u001b[38;5;241;43m=\u001b[39;49m\u001b[43maxis\u001b[49m\u001b[43m)\u001b[49m\n",
      "File \u001b[0;32m/usr/local/lib/python3.8/dist-packages/pandas/core/indexing.py:1523\u001b[0m, in \u001b[0;36m_iLocIndexer._getitem_axis\u001b[0;34m(self, key, axis)\u001b[0m\n\u001b[1;32m   1520\u001b[0m     \u001b[38;5;28;01mraise\u001b[39;00m \u001b[38;5;167;01mTypeError\u001b[39;00m(\u001b[38;5;124m\"\u001b[39m\u001b[38;5;124mCannot index by location index with a non-integer key\u001b[39m\u001b[38;5;124m\"\u001b[39m)\n\u001b[1;32m   1522\u001b[0m \u001b[38;5;66;03m# validate the location\u001b[39;00m\n\u001b[0;32m-> 1523\u001b[0m \u001b[38;5;28;43mself\u001b[39;49m\u001b[38;5;241;43m.\u001b[39;49m\u001b[43m_validate_integer\u001b[49m\u001b[43m(\u001b[49m\u001b[43mkey\u001b[49m\u001b[43m,\u001b[49m\u001b[43m \u001b[49m\u001b[43maxis\u001b[49m\u001b[43m)\u001b[49m\n\u001b[1;32m   1525\u001b[0m \u001b[38;5;28;01mreturn\u001b[39;00m \u001b[38;5;28mself\u001b[39m\u001b[38;5;241m.\u001b[39mobj\u001b[38;5;241m.\u001b[39m_ixs(key, axis\u001b[38;5;241m=\u001b[39maxis)\n",
      "File \u001b[0;32m/usr/local/lib/python3.8/dist-packages/pandas/core/indexing.py:1455\u001b[0m, in \u001b[0;36m_iLocIndexer._validate_integer\u001b[0;34m(self, key, axis)\u001b[0m\n\u001b[1;32m   1453\u001b[0m len_axis \u001b[38;5;241m=\u001b[39m \u001b[38;5;28mlen\u001b[39m(\u001b[38;5;28mself\u001b[39m\u001b[38;5;241m.\u001b[39mobj\u001b[38;5;241m.\u001b[39m_get_axis(axis))\n\u001b[1;32m   1454\u001b[0m \u001b[38;5;28;01mif\u001b[39;00m key \u001b[38;5;241m>\u001b[39m\u001b[38;5;241m=\u001b[39m len_axis \u001b[38;5;129;01mor\u001b[39;00m key \u001b[38;5;241m<\u001b[39m \u001b[38;5;241m-\u001b[39mlen_axis:\n\u001b[0;32m-> 1455\u001b[0m     \u001b[38;5;28;01mraise\u001b[39;00m \u001b[38;5;167;01mIndexError\u001b[39;00m(\u001b[38;5;124m\"\u001b[39m\u001b[38;5;124msingle positional indexer is out-of-bounds\u001b[39m\u001b[38;5;124m\"\u001b[39m)\n",
      "\u001b[0;31mIndexError\u001b[0m: single positional indexer is out-of-bounds"
     ]
    }
   ],
   "source": [
    "DF = pd.read_csv(f'{df[\"context\"].iloc[1]}', sep=',')"
   ]
  },
  {
   "cell_type": "raw",
   "id": "d521fd20-8f12-4bd1-a995-a7aae77f96e5",
   "metadata": {},
   "source": [
    "The database table DF is shown as follows:\n",
    "[HEAD]: rank|mountain_peak|mountain_range|elevation|prominence|isolation|location\n",
    "---\n",
    "[ROW] 1: 1|Mount Whitney|Sierra Nevada|14,505 ft 4421 m|10,080 ft 3072 m|1,646 mi 2,649 km|36°34′43″N 118°17′31″W﻿ / ﻿36.5786°N 118.2920°W\n",
    "[ROW] 2: 2|Mount Williamson|Sierra Nevada|14,379 ft 4383 m|1,677 ft 511 m|5.4 mi 8.7 km|36°39′21″N 118°18′40″W﻿ / ﻿36.6559°N 118.3111°W\n",
    "[ROW] 3: 3|White Mountain Peak|White Mountains|14,252 ft 4344 m|7,196 ft 2193 m|67 mi 109 km|37°38′03″N 118°15′21″W﻿ / ﻿37.6341°N 118.2557°W\n",
    "...\n",
    "[ROW] 15: 15|Red Slate Mountain|Sierra Nevada|13,162 ft 4012 m|1,736 ft 529 m|8 mi 13 km|37°30′27″N 118°52′09″W﻿ / ﻿37.5075°N 118.8693°W\n",
    "[ROW] 16: 16|Mount Ritter|Sierra Nevada|13,149 ft 4008 m|3,990 ft 1216 m|22 mi 35 km|37°41′21″N 119°11′59″W﻿ / ﻿37.6891°N 119.1996°W\n",
    "\n",
    "Answer the following question based on the data above: \"which mountain peak has a prominence more than 10,000 ft?\". Execute SQL or Python code step-by-step and finally answer the question. Choose from generating a SQL, Python code, or directly answering the question.\n",
    "\n",
    "SQL: ```SELECT mountain_peak, prominence FROM DF;```.\n",
    "\n",
    "The database table DF is shown as follows:\n",
    "[HEAD]: mountain_peak|prominence\n",
    "---\n",
    "[ROW] 1: Mount Whitney|10,080 ft 3072 m\n",
    "[ROW] 2: Mount Williamson|1,677 ft 511 m\n",
    "[ROW] 3: White Mountain Peak|7,196 ft 2193 m\n",
    "...\n",
    "[ROW] 15: Red Slate Mountain|1,736 ft 529 m\n",
    "[ROW] 16: Mount Ritter|3,990 ft 1216 m\n",
    "\n",
    "Answer the following question based on the data above: \"which mountain peak has a prominence more than 10,000 ft?\". Execute SQL or Python code step-by-step and finally answer the question. Choose from generating a SQL, Python code, or directly answering the question.\n",
    "\n",
    "Python: ```\n",
    "def get_ft(s):\n",
    "    import re\n",
    "    return float(re.search(\"(.*?) ft\", s).group(1))\n",
    "DF['prominence_ft'] = DF.apply(lambda x: get_ft(x['prominence']), axis=1)\n",
    "```.\n",
    "\n",
    "The database table DF is shown as follows:\n",
    "[HEAD]: mountain_peak|prominence|prominence_ft\n",
    "---\n",
    "[ROW] 1: Mount Whitney|10,080 ft 3072 m|10080.0\n",
    "[ROW] 2: Mount Williamson|1,677 ft 511 m|1677.0\n",
    "[ROW] 3: White Mountain Peak|7,196 ft 2193 m|7196.0\n",
    "...\n",
    "[ROW] 15: Red Slate Mountain|1,736 ft 529 m|1736.0\n",
    "[ROW] 16: Mount Ritter|3,990 ft 1216 m|3990.0\n",
    "\n",
    "Answer the following question based on the data above: \"which mountain peak has a prominence more than 10,000 ft?\". Execute SQL or Python code step-by-step and finally answer the question. Choose from generating a SQL, Python code, or directly answering the question.\n",
    "\n",
    "SQL: ```SELECT mountain_peak FROM DF WHERE prominence_ft>10000;```.\n",
    "\n",
    "The database table DF is shown as follows:\n",
    "[HEAD]: mountain_peak\n",
    "---\n",
    "[ROW] 1: Mount Whitney\n",
    "\n",
    "Answer the following question based on the data above: \"which mountain peak has a prominence more than 10,000 ft?\". Execute SQL or Python code step-by-step and finally answer the question. Choose from generating a SQL, Python code, or directly answering the question.\n",
    "\n",
    "Answer: ```Mount Whitney```."
   ]
  }
 ],
 "metadata": {
  "kernelspec": {
   "display_name": "Python 3 (ipykernel)",
   "language": "python",
   "name": "python3"
  },
  "language_info": {
   "codemirror_mode": {
    "name": "ipython",
    "version": 3
   },
   "file_extension": ".py",
   "mimetype": "text/x-python",
   "name": "python",
   "nbconvert_exporter": "python",
   "pygments_lexer": "ipython3",
   "version": "3.8.10"
  }
 },
 "nbformat": 4,
 "nbformat_minor": 5
}
