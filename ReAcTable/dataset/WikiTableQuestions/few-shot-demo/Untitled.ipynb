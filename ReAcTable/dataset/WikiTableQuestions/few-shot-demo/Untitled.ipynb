{
 "cells": [
  {
   "cell_type": "code",
   "execution_count": 22,
   "id": "86d0296a-1b2a-47b6-bcd4-1cbfaaca57ce",
   "metadata": {},
   "outputs": [],
   "source": [
    "import json\n",
    "# d = json.load(open('/mnt/text2sql/dataset/Table-Fact-Checking/results/CodexAnswerCOTExecutor_sql_results_test_small.json'))\n",
    "d = json.load(open('/mnt/text2sql/dataset/WikiTableQuestions/results/CodexAnswerCOTExecutor_original-sql-py_sql-py_NNDemo=False_results_pristine-unseen-tables.json'))"
   ]
  },
  {
   "cell_type": "code",
   "execution_count": 23,
   "id": "fd267218-dc08-4fd0-a310-859c115da824",
   "metadata": {},
   "outputs": [],
   "source": [
    "steps = []\n",
    "for log in d:\n",
    "    if 'gpt_original_output' in log:\n",
    "        steps.append(len(log['gpt_original_output']))"
   ]
  },
  {
   "cell_type": "code",
   "execution_count": 24,
   "id": "28b4d236-3dad-4377-9a54-e03d351d997b",
   "metadata": {},
   "outputs": [
    {
     "data": {
      "image/png": "[encoded data removed]",
      "text/plain": [
       "<Figure size 500x300 with 1 Axes>"
      ]
     },
     "metadata": {},
     "output_type": "display_data"
    }
   ],
   "source": [
    "import matplotlib.pyplot as plt\n",
    "# Creating histogram\n",
    "fig, ax = plt.subplots(figsize =(5, 3))\n",
    "ax.hist(steps, bins=[1,2,3,4,5,6])\n",
    " \n",
    "# Show plot\n",
    "plt.show()"
   ]
  },
  {
   "cell_type": "code",
   "execution_count": 15,
   "id": "0c18e4e4-1877-4aa7-909c-4f8abd982c87",
   "metadata": {},
   "outputs": [
    {
     "data": {
      "text/plain": [
       "[]"
      ]
     },
     "execution_count": 15,
     "metadata": {},
     "output_type": "execute_result"
    }
   ],
   "source": [
    "steps"
   ]
  },
  {
   "cell_type": "code",
   "execution_count": null,
   "id": "10d8cf08-3edb-4681-8f1c-98453d94c7ea",
   "metadata": {},
   "outputs": [],
   "source": []
  }
 ],
 "metadata": {
  "kernelspec": {
   "display_name": "Python 3 (ipykernel)",
   "language": "python",
   "name": "python3"
  },
  "language_info": {
   "codemirror_mode": {
    "name": "ipython",
    "version": 3
   },
   "file_extension": ".py",
   "mimetype": "text/x-python",
   "name": "python",
   "nbconvert_exporter": "python",
   "pygments_lexer": "ipython3",
   "version": "3.8.10"
  }
 },
 "nbformat": 4,
 "nbformat_minor": 5
}
