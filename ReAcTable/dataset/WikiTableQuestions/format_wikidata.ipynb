{
 "cells": [
  {
   "cell_type": "code",
   "execution_count": 1,
   "metadata": {},
   "outputs": [],
   "source": [
    "import pandas as pd\n",
    "training_df = pd.read_csv('/mnt/text2sql/dataset/WikiTableQuestions/data/training.tsv', delimiter='\\t')"
   ]
  },
  {
   "cell_type": "code",
   "execution_count": 2,
   "metadata": {},
   "outputs": [
    {
     "data": {
      "text/plain": [
       "('what was the last year where this team was a part of the usl a-league?',\n",
       " 'csv/204-csv/590.csv',\n",
       " '2004')"
      ]
     },
     "execution_count": 2,
     "metadata": {},
     "output_type": "execute_result"
    }
   ],
   "source": [
    "training_df.iloc[0]['utterance'], training_df.iloc[0]['context'], training_df.iloc[0]['targetValue']"
   ]
  },
  {
   "cell_type": "code",
   "execution_count": 3,
   "metadata": {},
   "outputs": [
    {
     "ename": "ModuleNotFoundError",
     "evalue": "No module named 'gpt3_sandbox'",
     "output_type": "error",
     "traceback": [
      "\u001b[0;31m---------------------------------------------------------------------------\u001b[0m",
      "\u001b[0;31mModuleNotFoundError\u001b[0m                       Traceback (most recent call last)",
      "Input \u001b[0;32mIn [3]\u001b[0m, in \u001b[0;36m<cell line: 3>\u001b[0;34m()\u001b[0m\n\u001b[1;32m      1\u001b[0m \u001b[38;5;28;01mimport\u001b[39;00m \u001b[38;5;21;01mopenai\u001b[39;00m\n\u001b[1;32m      2\u001b[0m \u001b[38;5;28;01mimport\u001b[39;00m \u001b[38;5;21;01mos\u001b[39;00m\n\u001b[0;32m----> 3\u001b[0m \u001b[38;5;28;01mfrom\u001b[39;00m \u001b[38;5;21;01mgpt3_sandbox\u001b[39;00m\u001b[38;5;21;01m.\u001b[39;00m\u001b[38;5;21;01mapi\u001b[39;00m\u001b[38;5;21;01m.\u001b[39;00m\u001b[38;5;21;01mgpt\u001b[39;00m \u001b[38;5;28;01mimport\u001b[39;00m GPT\n\u001b[1;32m      4\u001b[0m \u001b[38;5;28;01mfrom\u001b[39;00m \u001b[38;5;21;01mgpt3_sandbox\u001b[39;00m\u001b[38;5;21;01m.\u001b[39;00m\u001b[38;5;21;01mapi\u001b[39;00m\u001b[38;5;21;01m.\u001b[39;00m\u001b[38;5;21;01mgpt\u001b[39;00m \u001b[38;5;28;01mimport\u001b[39;00m Example\n\u001b[1;32m      6\u001b[0m \u001b[38;5;28;01mclass\u001b[39;00m \u001b[38;5;21;01mCodexSQL\u001b[39;00m:\n",
      "\u001b[0;31mModuleNotFoundError\u001b[0m: No module named 'gpt3_sandbox'"
     ]
    }
   ],
   "source": [
    "import openai\n",
    "import os\n",
    "from gpt3_sandbox.api.gpt import GPT\n",
    "from gpt3_sandbox.api.gpt import Example\n",
    "\n",
    "class CodexSQL:\n",
    "    \n",
    "    def __init__(self, utterance, source_csv, target_value):\n",
    "        self.utterance = utterance\n",
    "        self.source_csv = source_csv\n",
    "        self.target_value = target_value\n",
    "        \n",
    "    def _read_data(self, ):\n",
    "        self.source_table_df = pd.read_csv(self.source_csv)\n",
    "        self.source_schema = self.source_table_df.columns\n",
    "    \n",
    "    def _gen_codex_prompt(self, schema=True):\n",
    "        promp_template = \"\"\"The database schema is as follows:\n",
    "---\n",
    "Columns: {}\n",
    "---\n",
    "Generate a valid and syntactically correct SQL query that answers the following question and adheres to the schema listed above: \"{}\"\n",
    "SQL: ```\"\"\"\n",
    "        self.prompt = promp_template.format(self.source_schema, self.utterance)\n",
    "    \n",
    "    def get_codex_prediction(self, ):\n",
    "        openai.api_key = API_key\n",
    "        gpt = GPT(engine=\"code-davinci-002\", # code-davinci-002  text-davinci-002\n",
    "          temperature=0,\n",
    "          max_tokens=512)\n",
    "        \n",
    "        output = gpt.submit_request(prompt)\n",
    "        print(output.choices)\n",
    "\n",
    "\n",
    "    \n",
    "CodexSQL(training_df.iloc[0]['utterance'], training_df.iloc[0]['context'], training_df.iloc[0]['targetValue'])"
   ]
  },
  {
   "cell_type": "code",
   "execution_count": 6,
   "metadata": {},
   "outputs": [],
   "source": [
    "!export PYTHONPATH=\"$PYTHONPATH:/mnt/text2sql/dataset/WikiTableQuestions/\""
   ]
  },
  {
   "cell_type": "code",
   "execution_count": null,
   "metadata": {},
   "outputs": [],
   "source": []
  }
 ],
 "metadata": {
  "kernelspec": {
   "display_name": "Python 3",
   "language": "python",
   "name": "python3"
  },
  "language_info": {
   "codemirror_mode": {
    "name": "ipython",
    "version": 3
   },
   "file_extension": ".py",
   "mimetype": "text/x-python",
   "name": "python",
   "nbconvert_exporter": "python",
   "pygments_lexer": "ipython3",
   "version": "3.8.5"
  }
 },
 "nbformat": 4,
 "nbformat_minor": 5
}
